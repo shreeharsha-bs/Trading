{
 "cells": [
  {
   "cell_type": "markdown",
   "metadata": {},
   "source": [
    "# Downloading Market and Fundamental Data with `yfinance`"
   ]
  },
  {
   "cell_type": "markdown",
   "metadata": {},
   "source": [
    "## Imports & Settings"
   ]
  },
  {
   "cell_type": "code",
   "execution_count": 15,
   "metadata": {
    "ExecuteTime": {
     "end_time": "2020-12-30T22:10:18.106348Z",
     "start_time": "2020-12-30T22:10:17.915000Z"
    }
   },
   "outputs": [],
   "source": [
    "import pandas as pd\n",
    "import yfinance as yf"
   ]
  },
  {
   "cell_type": "code",
   "execution_count": 34,
   "metadata": {
    "ExecuteTime": {
     "end_time": "2020-12-30T22:10:23.890433Z",
     "start_time": "2020-12-30T22:10:23.292190Z"
    }
   },
   "outputs": [
    {
     "name": "stdout",
     "output_type": "stream",
     "text": [
      "[*********************100%***********************]  3 of 3 completed\n"
     ]
    }
   ],
   "source": [
    "data = yf.download(\n",
    "        tickers = \"SPY AAPL MSFT\", # list or string\n",
    "\n",
    "        # use \"period\" instead of start/end\n",
    "        # valid periods: 1d,5d,1mo,3mo,6mo,1y,2y,5y,10y,ytd,max\n",
    "        # (optional, default is '1mo')\n",
    "        period = \"5d\",\n",
    "\n",
    "        # fetch data by interval (including intraday if period < 60 days)\n",
    "        # valid intervals: 1m,2m,5m,15m,30m,60m,90m,1h,1d,5d,1wk,1mo,3mo\n",
    "        # (optional, default is '1d')\n",
    "        interval = \"60m\",\n",
    "\n",
    "        # group by ticker (to access via data['SPY'])\n",
    "        # (optional, default is 'column')\n",
    "        group_by = 'ticker',\n",
    "\n",
    "        # adjust all OHLC automatically\n",
    "        # (optional, default is False)\n",
    "        auto_adjust = True,\n",
    "\n",
    "        # download pre/post regular market hours data\n",
    "        # (optional, default is False)\n",
    "        prepost = True,\n",
    "\n",
    "        # use threads for mass downloading? (True/False/Integer)\n",
    "        # (optional, default is True)\n",
    "        threads = True,\n",
    "\n",
    "        # proxy URL scheme use use when downloading?\n",
    "        # (optional, default is None)\n",
    "        proxy = None\n",
    "    )"
   ]
  },
  {
   "cell_type": "code",
   "execution_count": 35,
   "metadata": {
    "ExecuteTime": {
     "end_time": "2020-12-30T22:10:23.905366Z",
     "start_time": "2020-12-30T22:10:23.891377Z"
    }
   },
   "outputs": [
    {
     "name": "stdout",
     "output_type": "stream",
     "text": [
      "<class 'pandas.core.frame.DataFrame'>\n",
      "DatetimeIndex: 85 entries, 2024-04-08 04:00:00 to 2024-04-12 19:00:00\n",
      "Data columns (total 15 columns):\n",
      " #   Column          Non-Null Count  Dtype  \n",
      "---  ------          --------------  -----  \n",
      " 0   (SPY, Open)     85 non-null     float64\n",
      " 1   (SPY, High)     85 non-null     float64\n",
      " 2   (SPY, Low)      85 non-null     float64\n",
      " 3   (SPY, Close)    85 non-null     float64\n",
      " 4   (SPY, Volume)   85 non-null     int64  \n",
      " 5   (MSFT, Open)    85 non-null     float64\n",
      " 6   (MSFT, High)    85 non-null     float64\n",
      " 7   (MSFT, Low)     85 non-null     float64\n",
      " 8   (MSFT, Close)   85 non-null     float64\n",
      " 9   (MSFT, Volume)  85 non-null     int64  \n",
      " 10  (AAPL, Open)    85 non-null     float64\n",
      " 11  (AAPL, High)    85 non-null     float64\n",
      " 12  (AAPL, Low)     85 non-null     float64\n",
      " 13  (AAPL, Close)   85 non-null     float64\n",
      " 14  (AAPL, Volume)  85 non-null     int64  \n",
      "dtypes: float64(12), int64(3)\n",
      "memory usage: 10.6 KB\n"
     ]
    }
   ],
   "source": [
    "data.info()"
   ]
  },
  {
   "cell_type": "code",
   "execution_count": 38,
   "metadata": {
    "ExecuteTime": {
     "end_time": "2020-12-30T22:10:24.362899Z",
     "start_time": "2020-12-30T22:10:24.354134Z"
    }
   },
   "outputs": [
    {
     "data": {
      "text/html": [
       "<div>\n",
       "<style scoped>\n",
       "    .dataframe tbody tr th:only-of-type {\n",
       "        vertical-align: middle;\n",
       "    }\n",
       "\n",
       "    .dataframe tbody tr th {\n",
       "        vertical-align: top;\n",
       "    }\n",
       "\n",
       "    .dataframe thead th {\n",
       "        text-align: right;\n",
       "    }\n",
       "</style>\n",
       "<table border=\"1\" class=\"dataframe\">\n",
       "  <thead>\n",
       "    <tr style=\"text-align: right;\">\n",
       "      <th></th>\n",
       "      <th>Open</th>\n",
       "      <th>High</th>\n",
       "      <th>Low</th>\n",
       "      <th>Close</th>\n",
       "      <th>Volume</th>\n",
       "    </tr>\n",
       "    <tr>\n",
       "      <th>Datetime</th>\n",
       "      <th></th>\n",
       "      <th></th>\n",
       "      <th></th>\n",
       "      <th></th>\n",
       "      <th></th>\n",
       "    </tr>\n",
       "  </thead>\n",
       "  <tbody>\n",
       "    <tr>\n",
       "      <th>2024-04-08 04:00:00</th>\n",
       "      <td>518.830000</td>\n",
       "      <td>519.070000</td>\n",
       "      <td>517.03000</td>\n",
       "      <td>517.660000</td>\n",
       "      <td>0</td>\n",
       "    </tr>\n",
       "    <tr>\n",
       "      <th>2024-04-08 05:00:00</th>\n",
       "      <td>517.610000</td>\n",
       "      <td>518.480000</td>\n",
       "      <td>517.47000</td>\n",
       "      <td>518.300000</td>\n",
       "      <td>0</td>\n",
       "    </tr>\n",
       "    <tr>\n",
       "      <th>2024-04-08 06:00:00</th>\n",
       "      <td>518.310000</td>\n",
       "      <td>518.350000</td>\n",
       "      <td>517.85000</td>\n",
       "      <td>518.300000</td>\n",
       "      <td>0</td>\n",
       "    </tr>\n",
       "    <tr>\n",
       "      <th>2024-04-08 07:00:00</th>\n",
       "      <td>518.330000</td>\n",
       "      <td>518.940000</td>\n",
       "      <td>518.04000</td>\n",
       "      <td>518.560000</td>\n",
       "      <td>0</td>\n",
       "    </tr>\n",
       "    <tr>\n",
       "      <th>2024-04-08 08:00:00</th>\n",
       "      <td>518.560000</td>\n",
       "      <td>519.240000</td>\n",
       "      <td>517.45990</td>\n",
       "      <td>519.160000</td>\n",
       "      <td>0</td>\n",
       "    </tr>\n",
       "    <tr>\n",
       "      <th>...</th>\n",
       "      <td>...</td>\n",
       "      <td>...</td>\n",
       "      <td>...</td>\n",
       "      <td>...</td>\n",
       "      <td>...</td>\n",
       "    </tr>\n",
       "    <tr>\n",
       "      <th>2024-04-12 15:30:00</th>\n",
       "      <td>509.494995</td>\n",
       "      <td>510.920013</td>\n",
       "      <td>509.26001</td>\n",
       "      <td>510.820007</td>\n",
       "      <td>14383801</td>\n",
       "    </tr>\n",
       "    <tr>\n",
       "      <th>2024-04-12 16:00:00</th>\n",
       "      <td>510.830000</td>\n",
       "      <td>518.745000</td>\n",
       "      <td>483.07056</td>\n",
       "      <td>510.690000</td>\n",
       "      <td>0</td>\n",
       "    </tr>\n",
       "    <tr>\n",
       "      <th>2024-04-12 17:00:00</th>\n",
       "      <td>510.850000</td>\n",
       "      <td>510.850000</td>\n",
       "      <td>510.40000</td>\n",
       "      <td>510.479200</td>\n",
       "      <td>0</td>\n",
       "    </tr>\n",
       "    <tr>\n",
       "      <th>2024-04-12 18:00:00</th>\n",
       "      <td>510.480000</td>\n",
       "      <td>510.500000</td>\n",
       "      <td>510.30000</td>\n",
       "      <td>510.315000</td>\n",
       "      <td>0</td>\n",
       "    </tr>\n",
       "    <tr>\n",
       "      <th>2024-04-12 19:00:00</th>\n",
       "      <td>510.315000</td>\n",
       "      <td>510.390000</td>\n",
       "      <td>509.75000</td>\n",
       "      <td>509.980000</td>\n",
       "      <td>0</td>\n",
       "    </tr>\n",
       "  </tbody>\n",
       "</table>\n",
       "<p>85 rows × 5 columns</p>\n",
       "</div>"
      ],
      "text/plain": [
       "                           Open        High        Low       Close    Volume\n",
       "Datetime                                                                    \n",
       "2024-04-08 04:00:00  518.830000  519.070000  517.03000  517.660000         0\n",
       "2024-04-08 05:00:00  517.610000  518.480000  517.47000  518.300000         0\n",
       "2024-04-08 06:00:00  518.310000  518.350000  517.85000  518.300000         0\n",
       "2024-04-08 07:00:00  518.330000  518.940000  518.04000  518.560000         0\n",
       "2024-04-08 08:00:00  518.560000  519.240000  517.45990  519.160000         0\n",
       "...                         ...         ...        ...         ...       ...\n",
       "2024-04-12 15:30:00  509.494995  510.920013  509.26001  510.820007  14383801\n",
       "2024-04-12 16:00:00  510.830000  518.745000  483.07056  510.690000         0\n",
       "2024-04-12 17:00:00  510.850000  510.850000  510.40000  510.479200         0\n",
       "2024-04-12 18:00:00  510.480000  510.500000  510.30000  510.315000         0\n",
       "2024-04-12 19:00:00  510.315000  510.390000  509.75000  509.980000         0\n",
       "\n",
       "[85 rows x 5 columns]"
      ]
     },
     "execution_count": 38,
     "metadata": {},
     "output_type": "execute_result"
    }
   ],
   "source": [
    "# auto_adjust = True\n",
    "data['SPY']"
   ]
  },
  {
   "cell_type": "code",
   "execution_count": 41,
   "metadata": {},
   "outputs": [
    {
     "data": {
      "image/png": "[encoded data removed]",
      "text/plain": [
       "<Figure size 576x414 with 2 Axes>"
      ]
     },
     "metadata": {
      "needs_background": "light"
     },
     "output_type": "display_data"
    }
   ],
   "source": [
    "# plot the candlesticks for SPY\n",
    "import mplfinance as mpf\n",
    "mpf.plot(data['SPY'], type='candle')\n"
   ]
  },
  {
   "cell_type": "code",
   "execution_count": 42,
   "metadata": {},
   "outputs": [
    {
     "data": {
      "text/plain": [
       "[<matplotlib.lines.Line2D at 0x1ce4263c340>]"
      ]
     },
     "execution_count": 42,
     "metadata": {},
     "output_type": "execute_result"
    },
    {
     "data": {
      "image/png": "[encoded data removed]",
      "text/plain": [
       "<Figure size 432x288 with 1 Axes>"
      ]
     },
     "metadata": {
      "needs_background": "light"
     },
     "output_type": "display_data"
    }
   ],
   "source": [
    "import matplotlib.pyplot as plt\n",
    "plt.plot(data['SPY']['Close'])"
   ]
  }
 ],
 "metadata": {
  "kernelspec": {
   "display_name": "Python 3",
   "language": "python",
   "name": "python3"
  },
  "language_info": {
   "codemirror_mode": {
    "name": "ipython",
    "version": 3
   },
   "file_extension": ".py",
   "mimetype": "text/x-python",
   "name": "python",
   "nbconvert_exporter": "python",
   "pygments_lexer": "ipython3",
   "version": "3.10.6"
  },
  "toc": {
   "base_numbering": 1,
   "nav_menu": {},
   "number_sections": true,
   "sideBar": true,
   "skip_h1_title": true,
   "title_cell": "Table of Contents",
   "title_sidebar": "Contents",
   "toc_cell": false,
   "toc_position": {},
   "toc_section_display": true,
   "toc_window_display": true
  }
 },
 "nbformat": 4,
 "nbformat_minor": 2
}
